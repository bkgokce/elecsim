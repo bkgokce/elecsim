{
 "cells": [
  {
   "cell_type": "code",
   "execution_count": 24,
   "metadata": {},
   "outputs": [],
   "source": [
    "import pickle\n",
    "import pandas as pd\n",
    "import seaborn as sns\n",
    "import matplotlib.pyplot as plt\n",
    "import numpy as np\n",
    "from itertools import cycle\n",
    "import glob\n",
    "import os"
   ]
  },
  {
   "cell_type": "code",
   "execution_count": 25,
   "metadata": {},
   "outputs": [
    {
     "data": {
      "text/plain": [
       "[195.0,\n",
       " 30877.873556385788,\n",
       " array([2.04424596e+00, 1.41908512e+01, 0.00000000e+00, 0.00000000e+00,\n",
       "        6.00000000e+02, 6.02766562e+00, 7.28695393e-01, 6.00000000e+02,\n",
       "        1.44583635e+01, 6.00000000e+02, 5.77792603e+02, 6.44108353e+01,\n",
       "        0.00000000e+00, 0.00000000e+00, 6.00000000e+02, 6.00000000e+02,\n",
       "        7.15104008e+00, 2.16107674e+01, 1.73979092e+01, 6.00000000e+02,\n",
       "        5.61192017e+02, 5.88955444e+02, 6.00000000e+02, 5.88054871e+02,\n",
       "        6.00000000e+02, 0.00000000e+00, 6.00000000e+02, 3.41457214e+01,\n",
       "        6.00000000e+02, 6.00000000e+02, 6.00000000e+02, 2.66028996e+01,\n",
       "        6.00000000e+02, 1.20462656e+00, 5.68229736e+02, 0.00000000e+00,\n",
       "        0.00000000e+00, 5.65221863e+02, 5.78055420e+02, 6.00000000e+02,\n",
       "        5.83905090e+02, 2.83956394e+01, 5.80218445e+02, 5.97625977e+02,\n",
       "        2.65081853e-01, 6.00000000e+02, 0.00000000e+00, 1.37567205e+01,\n",
       "        5.90505859e+02, 6.00000000e+02, 3.65707169e+01, 0.00000000e+00,\n",
       "        6.00000000e+02, 5.04926491e+00, 1.03996172e+01, 5.95529602e+02,\n",
       "        3.29469538e+00, 6.55639505e+00, 6.00000000e+02, 0.00000000e+00,\n",
       "        5.97461792e+02, 0.00000000e+00, 6.00000000e+02, 0.00000000e+00,\n",
       "        0.00000000e+00, 6.00000000e+02, 2.59713440e+01, 5.93134399e+02,\n",
       "        6.00000000e+02, 8.33133507e+00, 0.00000000e+00, 7.13415003e+00,\n",
       "        5.94612732e+02, 0.00000000e+00, 6.00000000e+02, 5.92823608e+02,\n",
       "        1.31496372e+01, 6.72098100e-01, 6.00000000e+02, 6.00000000e+02,\n",
       "        6.00000000e+02, 0.00000000e+00, 7.38476324e+00, 0.00000000e+00,\n",
       "        5.97204041e+02, 1.62599602e+01, 6.00000000e+02, 5.67433289e+02,\n",
       "        0.00000000e+00, 5.74222107e+02, 6.00000000e+02, 5.81724792e+02,\n",
       "        0.00000000e+00, 1.18364077e+01, 1.37279539e+01, 6.00000000e+02,\n",
       "        6.00000000e+02, 6.00000000e+02, 6.00000000e+02, 1.74413395e+01,\n",
       "        0.00000000e+00, 5.76349548e+02, 6.00000000e+02, 6.00000000e+02,\n",
       "        6.00000000e+02, 6.00000000e+02, 1.60506802e+01, 6.00000000e+02,\n",
       "        0.00000000e+00, 2.51405334e+00, 5.83639038e+02, 0.00000000e+00,\n",
       "        1.15360737e+01, 1.59157896e+01, 6.00000000e+02, 6.00000000e+02,\n",
       "        5.71850159e+02, 6.00000000e+02, 0.00000000e+00, 4.93634462e+00,\n",
       "        6.00000000e+02, 6.00000000e+02, 7.91895247e+00, 5.94424561e+02,\n",
       "        0.00000000e+00, 1.34344606e+01, 5.71198181e+02, 0.00000000e+00,\n",
       "        5.83501387e+00, 5.80788086e+02, 6.00000000e+02, 6.00000000e+02,\n",
       "        5.64273193e+02, 0.00000000e+00, 0.00000000e+00, 5.60935974e+02,\n",
       "        2.16779919e+01, 5.89911865e+02, 6.00000000e+02, 4.56784668e+01,\n",
       "        6.04001350e+01, 0.00000000e+00, 5.92850342e+02, 5.92626770e+02,\n",
       "        5.88061218e+02, 1.01452227e+01, 0.00000000e+00, 6.00000000e+02,\n",
       "        5.76983643e+02, 6.00000000e+02, 0.00000000e+00, 0.00000000e+00,\n",
       "        5.99358459e+02, 8.96418393e-01, 3.74799004e+01, 6.00000000e+02,\n",
       "        6.00000000e+02, 5.98939209e+02, 2.28549347e+01, 0.00000000e+00,\n",
       "        5.79853394e+02, 6.00000000e+02, 8.51704693e+00, 6.00000000e+02,\n",
       "        6.00000000e+02, 1.13038216e+01, 5.58881653e+02, 0.00000000e+00,\n",
       "        0.00000000e+00, 5.75186340e+02, 1.92613049e+01, 0.00000000e+00,\n",
       "        0.00000000e+00, 2.55207043e+01, 5.99666931e+02, 6.00000000e+02,\n",
       "        6.00000000e+02, 0.00000000e+00, 5.98294983e+02, 0.00000000e+00,\n",
       "        6.00000000e+02, 6.00000000e+02, 5.84910034e+02, 5.90903931e+02,\n",
       "        6.00000000e+02, 5.87042419e+02, 2.55305176e+01, 6.00000000e+02,\n",
       "        5.84222961e+02, 5.80720581e+02, 5.84993042e+02, 5.67766296e+02,\n",
       "        0.00000000e+00, 0.00000000e+00, 1.78883767e+00, 6.00000000e+02,\n",
       "        0.00000000e+00, 3.50928345e+01, 5.88562500e+02, 6.00000000e+02,\n",
       "        5.79979004e+02, 2.12688613e+00, 0.00000000e+00, 5.67471985e+02,\n",
       "        5.63108032e+02, 5.59132874e+02, 6.00000000e+02, 5.88852905e+02,\n",
       "        0.00000000e+00, 6.00000000e+02, 5.93762573e+02, 2.46799545e+01,\n",
       "        0.00000000e+00, 6.00000000e+02, 6.00000000e+02, 5.85044678e+02])]"
      ]
     },
     "execution_count": 25,
     "metadata": {},
     "output_type": "execute_result"
    }
   ],
   "source": [
    "bid_sample_group = pickle.load(open(\"/Users/alexanderkell/Documents/PhD/Projects/10-ELECSIM/run/intelligent_bidding/data/bids_data/max_600/bids_data_2020-07-01_13-52-24.p\", \"rb\"))\n",
    "bid_sample_group[2]\n",
    "\n"
   ]
  },
  {
   "cell_type": "code",
   "execution_count": 26,
   "metadata": {},
   "outputs": [
    {
     "data": {
      "text/html": [
       "<div>\n",
       "<style scoped>\n",
       "    .dataframe tbody tr th:only-of-type {\n",
       "        vertical-align: middle;\n",
       "    }\n",
       "\n",
       "    .dataframe tbody tr th {\n",
       "        vertical-align: top;\n",
       "    }\n",
       "\n",
       "    .dataframe thead th {\n",
       "        text-align: right;\n",
       "    }\n",
       "</style>\n",
       "<table border=\"1\" class=\"dataframe\">\n",
       "  <thead>\n",
       "    <tr style=\"text-align: right;\">\n",
       "      <th></th>\n",
       "      <th>0</th>\n",
       "    </tr>\n",
       "  </thead>\n",
       "  <tbody>\n",
       "    <tr>\n",
       "      <th>0</th>\n",
       "      <td>3.667849</td>\n",
       "    </tr>\n",
       "    <tr>\n",
       "      <th>1</th>\n",
       "      <td>0.000000</td>\n",
       "    </tr>\n",
       "    <tr>\n",
       "      <th>2</th>\n",
       "      <td>0.000000</td>\n",
       "    </tr>\n",
       "    <tr>\n",
       "      <th>3</th>\n",
       "      <td>0.000000</td>\n",
       "    </tr>\n",
       "    <tr>\n",
       "      <th>4</th>\n",
       "      <td>600.000000</td>\n",
       "    </tr>\n",
       "  </tbody>\n",
       "</table>\n",
       "</div>"
      ],
      "text/plain": [
       "            0\n",
       "0    3.667849\n",
       "1    0.000000\n",
       "2    0.000000\n",
       "3    0.000000\n",
       "4  600.000000"
      ]
     },
     "execution_count": 26,
     "metadata": {},
     "output_type": "execute_result"
    }
   ],
   "source": [
    "    # pd.DataFrame(bid_sample, index = list(range(len(bid_sample[0][2]))), columns=list(range(len(bid_sample[0]))))\n",
    "\n",
    "set_of_bids_df = pd.DataFrame(np.concatenate([sample[2] for sample in bid_sample_group]))\n",
    "set_of_bids_df.head()"
   ]
  },
  {
   "cell_type": "code",
   "execution_count": 27,
   "metadata": {},
   "outputs": [
    {
     "data": {
      "image/png": "[encoded data removed]",
      "text/plain": [
       "<Figure size 432x288 with 1 Axes>"
      ]
     },
     "metadata": {
      "needs_background": "light"
     },
     "output_type": "display_data"
    }
   ],
   "source": [
    "sns.distplot(set_of_bids_df, bins=100)\n",
    "plt.title(\"Large GenCo using RL strategy - capped at £600/MWh\")\n",
    "plt.xlabel(\"Prices bid (£\\MWh)\")\n",
    "\n",
    "set_of_bids_df.to_csv(\"/Users/alexanderkell/Documents/PhD/Projects/10-ELECSIM/run/intelligent_bidding/data/processed/bids/set_of_bids_df_large_company_600.csv\")"
   ]
  },
  {
   "cell_type": "code",
   "execution_count": 28,
   "metadata": {},
   "outputs": [
    {
     "data": {
      "text/html": [
       "<div>\n",
       "<style scoped>\n",
       "    .dataframe tbody tr th:only-of-type {\n",
       "        vertical-align: middle;\n",
       "    }\n",
       "\n",
       "    .dataframe tbody tr th {\n",
       "        vertical-align: top;\n",
       "    }\n",
       "\n",
       "    .dataframe thead th {\n",
       "        text-align: right;\n",
       "    }\n",
       "</style>\n",
       "<table border=\"1\" class=\"dataframe\">\n",
       "  <thead>\n",
       "    <tr style=\"text-align: right;\">\n",
       "      <th></th>\n",
       "      <th>hour_segment</th>\n",
       "      <th>demand_segment</th>\n",
       "      <th>variable</th>\n",
       "      <th>value</th>\n",
       "    </tr>\n",
       "  </thead>\n",
       "  <tbody>\n",
       "    <tr>\n",
       "      <th>0</th>\n",
       "      <td>65.0</td>\n",
       "      <td>31597.983822</td>\n",
       "      <td>0</td>\n",
       "      <td>3.667849</td>\n",
       "    </tr>\n",
       "    <tr>\n",
       "      <th>1</th>\n",
       "      <td>130.0</td>\n",
       "      <td>31071.093673</td>\n",
       "      <td>0</td>\n",
       "      <td>0.000000</td>\n",
       "    </tr>\n",
       "    <tr>\n",
       "      <th>2</th>\n",
       "      <td>195.0</td>\n",
       "      <td>30877.873556</td>\n",
       "      <td>0</td>\n",
       "      <td>2.044246</td>\n",
       "    </tr>\n",
       "    <tr>\n",
       "      <th>3</th>\n",
       "      <td>260.0</td>\n",
       "      <td>30841.340341</td>\n",
       "      <td>0</td>\n",
       "      <td>8.445005</td>\n",
       "    </tr>\n",
       "    <tr>\n",
       "      <th>4</th>\n",
       "      <td>325.0</td>\n",
       "      <td>30204.850546</td>\n",
       "      <td>0</td>\n",
       "      <td>20.147657</td>\n",
       "    </tr>\n",
       "    <tr>\n",
       "      <th>...</th>\n",
       "      <td>...</td>\n",
       "      <td>...</td>\n",
       "      <td>...</td>\n",
       "      <td>...</td>\n",
       "    </tr>\n",
       "    <tr>\n",
       "      <th>5179</th>\n",
       "      <td>1300.0</td>\n",
       "      <td>7318.820795</td>\n",
       "      <td>215</td>\n",
       "      <td>575.074890</td>\n",
       "    </tr>\n",
       "    <tr>\n",
       "      <th>5180</th>\n",
       "      <td>1365.0</td>\n",
       "      <td>6088.057364</td>\n",
       "      <td>215</td>\n",
       "      <td>575.884094</td>\n",
       "    </tr>\n",
       "    <tr>\n",
       "      <th>5181</th>\n",
       "      <td>1430.0</td>\n",
       "      <td>5220.190539</td>\n",
       "      <td>215</td>\n",
       "      <td>579.085144</td>\n",
       "    </tr>\n",
       "    <tr>\n",
       "      <th>5182</th>\n",
       "      <td>1495.0</td>\n",
       "      <td>5153.618902</td>\n",
       "      <td>215</td>\n",
       "      <td>580.796204</td>\n",
       "    </tr>\n",
       "    <tr>\n",
       "      <th>5183</th>\n",
       "      <td>1560.0</td>\n",
       "      <td>4875.966466</td>\n",
       "      <td>215</td>\n",
       "      <td>570.097717</td>\n",
       "    </tr>\n",
       "  </tbody>\n",
       "</table>\n",
       "<p>5184 rows × 4 columns</p>\n",
       "</div>"
      ],
      "text/plain": [
       "      hour_segment  demand_segment variable       value\n",
       "0             65.0    31597.983822        0    3.667849\n",
       "1            130.0    31071.093673        0    0.000000\n",
       "2            195.0    30877.873556        0    2.044246\n",
       "3            260.0    30841.340341        0    8.445005\n",
       "4            325.0    30204.850546        0   20.147657\n",
       "...            ...             ...      ...         ...\n",
       "5179        1300.0     7318.820795      215  575.074890\n",
       "5180        1365.0     6088.057364      215  575.884094\n",
       "5181        1430.0     5220.190539      215  579.085144\n",
       "5182        1495.0     5153.618902      215  580.796204\n",
       "5183        1560.0     4875.966466      215  570.097717\n",
       "\n",
       "[5184 rows x 4 columns]"
      ]
     },
     "execution_count": 28,
     "metadata": {},
     "output_type": "execute_result"
    }
   ],
   "source": [
    "# pd.DataFrame(bid_sample, index = list(range(len(bid_sample[0][2]))), columns=list(range(len(bid_sample[0]))))\n",
    "\n",
    "# bid_sample_600\n",
    "colnames = ['hour_segment', 'demand_segment', 'bids']\n",
    "\n",
    "# [{colname:item for sample in bid_sample_600 for (colname, item) in zip(cycle(colnames), sample)}]\n",
    "\n",
    "list_of_dicts = []\n",
    "for item in bid_sample_group:\n",
    "#     for item in sample:\n",
    "    dict_data = {\"hour_segment\": item[0], \"demand_segment\": item[1], \"bids\": item[2]}\n",
    "    list_of_dicts.append(dict_data)\n",
    "list_df = pd.DataFrame.from_dict(list_of_dicts)\n",
    "\n",
    "long_values_df = pd.DataFrame(list_df['bids'].to_list(), columns=list(range(len(bid_sample_group[0][2]))))\n",
    "long_values_df[['hour_segment','demand_segment']] = list_df[['hour_segment','demand_segment']]\n",
    "long_values_df = long_values_df.melt(id_vars=['hour_segment','demand_segment'])\n",
    "long_values_df"
   ]
  },
  {
   "cell_type": "code",
   "execution_count": 29,
   "metadata": {},
   "outputs": [
    {
     "data": {
      "text/plain": [
       "Text(0.5, 6.79999999999999, 'Prices bid (£\\\\MWh)')"
      ]
     },
     "execution_count": 29,
     "metadata": {},
     "output_type": "execute_result"
    },
    {
     "data": {
      "image/png": "[encoded data removed]",
      "text/plain": [
       "<Figure size 216x216 with 1 Axes>"
      ]
     },
     "metadata": {
      "needs_background": "light"
     },
     "output_type": "display_data"
    }
   ],
   "source": [
    "# sns.distplot(long_values_df, hue=\"demand_segment\")\n",
    "\n",
    "g = sns.FacetGrid(long_values_df, hue=\"demand_segment\", palette=\"Set1\")\n",
    "g = (g.map(sns.distplot, \"value\", bins=100))\n",
    "plt.xlabel(\"Prices bid (£\\MWh)\")"
   ]
  },
  {
   "cell_type": "code",
   "execution_count": 30,
   "metadata": {},
   "outputs": [
    {
     "data": {
      "text/plain": [
       "[99.0, 53599.99676801369, array([600.        ,  24.79052544, 599.95678711])]"
      ]
     },
     "execution_count": 30,
     "metadata": {},
     "output_type": "execute_result"
    }
   ],
   "source": [
    "bid_sample_small_genco = pickle.load(open(\"/Users/alexanderkell/Documents/PhD/Projects/10-ELECSIM/run/intelligent_bidding/data/bids_data/max_600/bids_data_2020-07-01_14-26-07.p\", \"rb\"))\n",
    "bid_sample_small_genco[2]\n"
   ]
  },
  {
   "cell_type": "code",
   "execution_count": 31,
   "metadata": {},
   "outputs": [
    {
     "data": {
      "image/png": "[encoded data removed]",
      "text/plain": [
       "<Figure size 432x288 with 1 Axes>"
      ]
     },
     "metadata": {
      "needs_background": "light"
     },
     "output_type": "display_data"
    }
   ],
   "source": [
    "set_of_bids_df = pd.DataFrame(np.concatenate([sample[2] for sample in bid_sample_small_genco]))\n",
    "set_of_bids_df\n",
    "\n",
    "sns.distplot(set_of_bids_df, bins=100)\n",
    "plt.title(\"Small GenCo using RL strategy - capped at £600/MWh\")\n",
    "plt.xlabel(\"Prices bid (£\\MWh)\")\n",
    "\n",
    "set_of_bids_df.to_csv(\"/Users/alexanderkell/Documents/PhD/Projects/10-ELECSIM/run/intelligent_bidding/data/processed/bids/set_of_bids_df_small_company_600.csv\")\n",
    "\n",
    "\n"
   ]
  },
  {
   "cell_type": "markdown",
   "metadata": {},
   "source": [
    "# Max bid = 150"
   ]
  },
  {
   "cell_type": "code",
   "execution_count": 32,
   "metadata": {},
   "outputs": [
    {
     "data": {
      "text/plain": [
       "[78.0,\n",
       " 49719.296516300936,\n",
       " array([140.31417847, 147.17393494,   0.        , 145.60494995,\n",
       "        150.        ,   3.35119677,  11.83002281,   0.        ,\n",
       "        150.        , 136.82814026,   0.        , 150.        ,\n",
       "        148.87464905, 150.        , 146.86129761,   8.72437954,\n",
       "          5.04022503,   0.        , 150.        , 146.05029297,\n",
       "          4.20770311,   0.        ,   0.        , 150.        ,\n",
       "        150.        ,   0.        , 150.        ,   0.        ,\n",
       "          0.        , 150.        ,   0.        ,   0.        ,\n",
       "          1.37835121, 150.        , 147.32841492,   6.40104675,\n",
       "          0.        ,   0.        ,   0.        , 150.        ,\n",
       "        150.        , 148.15840149,   0.        , 150.        ,\n",
       "          6.4102416 , 150.        , 146.11366272,   7.95176792,\n",
       "        145.23522949,   0.        ,   0.74683177,   0.        ,\n",
       "        150.        , 150.        ,   9.81538677, 150.        ,\n",
       "          0.        ,   8.67985535,   4.6868515 ,   3.00677562,\n",
       "        143.42739868,   3.54611635,   4.21267271, 149.40071106,\n",
       "        150.        , 150.        , 150.        ,   0.        ,\n",
       "          0.        ,  13.01241493,   2.89136815,   0.        ,\n",
       "        141.29948425,   0.        ,   3.19342709,   8.49103642,\n",
       "        150.        , 150.        , 148.03640747,   0.        ,\n",
       "        150.        , 147.9646759 , 140.94180298,   0.        ,\n",
       "          1.7454834 ,   0.        , 150.        ,   0.        ,\n",
       "        150.        ,   0.        ,   0.        ,   0.        ,\n",
       "        149.70196533,  11.16641998, 150.        , 144.59225464,\n",
       "        145.73416138,   0.        ,   0.        ,  10.20400715,\n",
       "        149.87391663,   2.0151372 , 150.        ,   0.        ,\n",
       "          5.17767668,   0.        ,   0.        ,   1.59952509,\n",
       "        150.        ,   0.        ,   5.48224211, 149.2638092 ,\n",
       "          0.95961905,   0.        , 145.55244446,   6.04925346,\n",
       "        150.        ,   1.68708074, 149.59715271, 141.78588867,\n",
       "          9.26756096,   4.14028549, 142.05532837, 145.62528992,\n",
       "        150.        , 149.89189148, 150.        , 150.        ,\n",
       "          0.        ,   0.        , 149.21228027,   0.        ,\n",
       "          9.26939774,   0.96908104, 143.35496521, 150.        ,\n",
       "        148.29808044, 148.71632385,   0.        , 150.        ,\n",
       "        146.27067566,   0.        , 150.        , 150.        ,\n",
       "          0.        , 150.        , 150.        , 150.        ,\n",
       "        150.        , 147.084198  ,   2.51200843,   0.        ,\n",
       "        143.49984741,   0.59232587, 150.        , 145.45083618,\n",
       "          0.        , 144.24488831, 140.16065979, 150.        ,\n",
       "        146.17599487,   5.54660559,   0.        , 145.58241272,\n",
       "        150.        ,   0.        , 150.        ,   3.20279765,\n",
       "        150.        ,   0.        ,   1.79653287,   1.6119734 ,\n",
       "          0.        , 150.        , 150.        , 149.02679443,\n",
       "          6.70440054,   5.11849785,   0.        , 145.92367554,\n",
       "        141.28381348,   2.82884145,   0.        , 142.81204224,\n",
       "          6.86314106, 150.        , 150.        ,   0.        ,\n",
       "        146.6322937 , 150.        , 150.        ,   0.        ,\n",
       "        150.        , 150.        , 150.        ,   0.        ,\n",
       "          0.        ,   6.50849009, 150.        ,   1.67148304,\n",
       "        140.83874512, 149.23605347, 149.04449463, 148.77218628,\n",
       "        150.        ,   1.88881612, 142.85926819,   0.        ,\n",
       "        149.96665955,   3.80974817, 143.86300659,   9.17831421,\n",
       "        150.        ,   0.        ,   3.36774611,   3.45799327])]"
      ]
     },
     "execution_count": 32,
     "metadata": {},
     "output_type": "execute_result"
    }
   ],
   "source": [
    "bid_sample_group = pickle.load(open(\"/Users/alexanderkell/Documents/PhD/Projects/10-ELECSIM/run/intelligent_bidding/data/bids_data/max_150/bids_data_2020-07-01_18-42-32.p\", \"rb\"))\n",
    "bid_sample_group[2]\n",
    "\n",
    "\n"
   ]
  },
  {
   "cell_type": "code",
   "execution_count": 33,
   "metadata": {},
   "outputs": [
    {
     "data": {
      "image/png": "[encoded data removed]",
      "text/plain": [
       "<Figure size 432x288 with 1 Axes>"
      ]
     },
     "metadata": {
      "needs_background": "light"
     },
     "output_type": "display_data"
    }
   ],
   "source": [
    "set_of_bids_df_150 = pd.DataFrame(np.concatenate([sample[2] for sample in bid_sample_group]))\n",
    "set_of_bids_df_150.head()\n",
    "\n",
    "sns.distplot(set_of_bids_df_150, bins=100)\n",
    "plt.title(\"Large GenCo using RL strategy - capped at £150/MWh\")\n",
    "plt.xlabel(\"Prices bid (£\\MWh)\")\n",
    "\n",
    "set_of_bids_df_150.to_csv(\"/Users/alexanderkell/Documents/PhD/Projects/10-ELECSIM/run/intelligent_bidding/data/processed/bids/large_company_150.csv\")"
   ]
  },
  {
   "cell_type": "code",
   "execution_count": 34,
   "metadata": {},
   "outputs": [
    {
     "data": {
      "text/plain": [
       "[159.0, 51219.007384962926, array([2.09700942, 0.        , 0.        ])]"
      ]
     },
     "execution_count": 34,
     "metadata": {},
     "output_type": "execute_result"
    }
   ],
   "source": [
    "bid_sample_group = pickle.load(open(\"/Users/alexanderkell/Documents/PhD/Projects/10-ELECSIM/run/intelligent_bidding/data/bids_data/max_150/bids_data_2020-07-01_18-42-39.p\", \"rb\"))\n",
    "bid_sample_group[2]\n"
   ]
  },
  {
   "cell_type": "code",
   "execution_count": 35,
   "metadata": {},
   "outputs": [
    {
     "data": {
      "image/png": "[encoded data removed]",
      "text/plain": [
       "<Figure size 432x288 with 1 Axes>"
      ]
     },
     "metadata": {
      "needs_background": "light"
     },
     "output_type": "display_data"
    }
   ],
   "source": [
    "set_of_bids_df_150 = pd.DataFrame(np.concatenate([sample[2] for sample in bid_sample_group]))\n",
    "set_of_bids_df_150.head()\n",
    "\n",
    "\n",
    "sns.distplot(set_of_bids_df_150, bins=100)\n",
    "plt.title(\"Small GenCo using RL strategy - capped at £150/MWh\")\n",
    "plt.xlabel(\"Prices bid (£\\MWh)\")\n",
    "\n",
    "set_of_bids_df_150.to_csv(\"/Users/alexanderkell/Documents/PhD/Projects/10-ELECSIM/run/intelligent_bidding/data/processed/bids/set_of_bids_df_small_company_150.csv\")"
   ]
  },
  {
   "cell_type": "markdown",
   "metadata": {},
   "source": [
    "## Visualising bids over time"
   ]
  },
  {
   "cell_type": "code",
   "execution_count": 36,
   "metadata": {},
   "outputs": [],
   "source": [
    "file_list = glob.glob(\"/Users/alexanderkell/Documents/PhD/Projects/10-ELECSIM/run/intelligent_bidding/data/bids_data/max_600/*.p\")\n",
    "\n",
    "small_company_list = []\n",
    "big_company_list = []\n",
    "\n",
    "counter = 0\n",
    "for file_path in file_list:\n",
    "    counter += 1\n",
    "    if counter % 50 == 0:\n",
    "        date_time = \"2020/07/01_\"+file_path.split(\"/\")[-1].split(\"01_\")[-1].split(\".\")[0].split(\" \")[0]\n",
    "\n",
    "        tmp_bid_dat = pickle.load(open(file_path, \"rb\"))\n",
    "\n",
    "        tmp_df = pd.DataFrame(np.concatenate([sample[2] for sample in tmp_bid_dat]))\n",
    "        tmp_df['timestamp'] = date_time\n",
    "    #     tmp_df['hour_segment'] = tmp_df[0]\n",
    "    #     tmp_df['demand_segment'] = tmp_df[1]\n",
    "\n",
    "        if len(tmp_bid_dat[0][2]) > 5:\n",
    "            big_company_list.append(tmp_df)\n",
    "        else:\n",
    "            small_company_list.append(tmp_df)\n",
    "\n",
    "\n",
    "small_company_df = pd.concat(small_company_list)\n",
    "small_company_df['timestamp'] = pd.to_datetime(small_company_df['timestamp'], format=\"%Y/%m/%d_%H-%M-%S\")        \n",
    "small_company_df.to_csv(\"/Users/alexanderkell/Documents/PhD/Projects/10-ELECSIM/run/intelligent_bidding/data/processed/small_company_df.csv\")\n",
    "\n",
    "big_company_df = pd.concat(big_company_list)\n",
    "big_company_df['timestamp'] = pd.to_datetime(big_company_df['timestamp'], format=\"%Y/%m/%d_%H-%M-%S\")        \n",
    "big_company_df.to_csv(\"/Users/alexanderkell/Documents/PhD/Projects/10-ELECSIM/run/intelligent_bidding/data/processed/big_company_df.csv\")\n"
   ]
  },
  {
   "cell_type": "code",
   "execution_count": 37,
   "metadata": {},
   "outputs": [],
   "source": [
    "file_list = glob.glob(\"/Users/alexanderkell/Documents/PhD/Projects/10-ELECSIM/run/intelligent_bidding/data/bids_data/max_150/*.p\")\n",
    "\n",
    "small_company_list = []\n",
    "big_company_list = []\n",
    "\n",
    "counter = 0\n",
    "for file_path in file_list:\n",
    "    counter += 1\n",
    "    if counter % 50 == 0:\n",
    "        date_time = \"2020/07/01_\"+file_path.split(\"/\")[-1].split(\"01_\")[-1].split(\".\")[0].split(\" \")[0]\n",
    "\n",
    "        tmp_bid_dat = pickle.load(open(file_path, \"rb\"))\n",
    "\n",
    "        tmp_df = pd.DataFrame(np.concatenate([sample[2] for sample in tmp_bid_dat]))\n",
    "        tmp_df['timestamp'] = date_time\n",
    "    #     tmp_df['hour_segment'] = tmp_df[0]\n",
    "    #     tmp_df['demand_segment'] = tmp_df[1]\n",
    "\n",
    "        if len(tmp_bid_dat[0][2]) > 5:\n",
    "            big_company_list.append(tmp_df)\n",
    "        else:\n",
    "            small_company_list.append(tmp_df)\n",
    "\n",
    "\n",
    "small_company_df = pd.concat(small_company_list)\n",
    "small_company_df['timestamp'] = pd.to_datetime(small_company_df['timestamp'], format=\"%Y/%m/%d_%H-%M-%S\")        \n",
    "small_company_df.to_csv(\"/Users/alexanderkell/Documents/PhD/Projects/10-ELECSIM/run/intelligent_bidding/data/processed/small_company_df_150.csv\")\n",
    "\n",
    "big_company_df = pd.concat(big_company_list)\n",
    "big_company_df['timestamp'] = pd.to_datetime(big_company_df['timestamp'], format=\"%Y/%m/%d_%H-%M-%S\")        \n",
    "big_company_df.to_csv(\"/Users/alexanderkell/Documents/PhD/Projects/10-ELECSIM/run/intelligent_bidding/data/processed/big_company_df_150.csv\")\n",
    "\n"
   ]
  },
  {
   "cell_type": "code",
   "execution_count": null,
   "metadata": {},
   "outputs": [],
   "source": []
  }
 ],
 "metadata": {
  "kernelspec": {
   "display_name": "Python 3",
   "language": "python",
   "name": "python3"
  },
  "language_info": {
   "codemirror_mode": {
    "name": "ipython",
    "version": 3
   },
   "file_extension": ".py",
   "mimetype": "text/x-python",
   "name": "python",
   "nbconvert_exporter": "python",
   "pygments_lexer": "ipython3",
   "version": "3.6.6"
  }
 },
 "nbformat": 4,
 "nbformat_minor": 2
}
